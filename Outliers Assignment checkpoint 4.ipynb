{
 "cells": [
  {
   "cell_type": "code",
   "execution_count": 52,
   "metadata": {},
   "outputs": [],
   "source": [
    "import pandas as pd\n",
    "import matplotlib.pyplot as plt\n",
    "from sqlalchemy import create_engine\n",
    "import warnings\n",
    "\n",
    "warnings.filterwarnings('ignore')\n",
    "\n",
    "path = \"C:/Users/Phillip/Pictures/Box Sync/My Python Programs/Data Science/us-education-datasets-unification-project/states_all.csv\"\n",
    "\n",
    "education_df = pd.read_csv(path)"
   ]
  },
  {
   "cell_type": "code",
   "execution_count": 53,
   "metadata": {},
   "outputs": [],
   "source": [
    "fill_list = [\"ENROLL\", \"TOTAL_REVENUE\", \"FEDERAL_REVENUE\",\n",
    "             \"STATE_REVENUE\", \"LOCAL_REVENUE\", \"TOTAL_EXPENDITURE\",\n",
    "             \"INSTRUCTION_EXPENDITURE\", \"SUPPORT_SERVICES_EXPENDITURE\",\n",
    "             \"OTHER_EXPENDITURE\", \"CAPITAL_OUTLAY_EXPENDITURE\", \"GRADES_PK_G\",\n",
    "             \"GRADES_KG_G\", \"GRADES_4_G\", \"GRADES_8_G\", \"GRADES_12_G\", \"GRADES_1_8_G\",\n",
    "             \"GRADES_9_12_G\", \"GRADES_ALL_G\"]\n",
    "\n",
    "states = education_df[\"STATE\"].unique()\n",
    "\n",
    "for state in states:\n",
    "    education_df.loc[education_df[\"STATE\"] == state, fill_list] = education_df.loc[education_df[\"STATE\"] == state, fill_list].interpolate()\n",
    "\n",
    "# we drop the null values after interpolation\n",
    "education_df.dropna(inplace=True)"
   ]
  },
  {
   "cell_type": "code",
   "execution_count": 54,
   "metadata": {},
   "outputs": [
    {
     "name": "stdout",
     "output_type": "stream",
     "text": [
      "<class 'pandas.core.frame.DataFrame'>\n",
      "Int64Index: 466 entries, 204 to 1491\n",
      "Data columns (total 25 columns):\n",
      "PRIMARY_KEY                     466 non-null object\n",
      "STATE                           466 non-null object\n",
      "YEAR                            466 non-null int64\n",
      "ENROLL                          466 non-null float64\n",
      "TOTAL_REVENUE                   466 non-null float64\n",
      "FEDERAL_REVENUE                 466 non-null float64\n",
      "STATE_REVENUE                   466 non-null float64\n",
      "LOCAL_REVENUE                   466 non-null float64\n",
      "TOTAL_EXPENDITURE               466 non-null float64\n",
      "INSTRUCTION_EXPENDITURE         466 non-null float64\n",
      "SUPPORT_SERVICES_EXPENDITURE    466 non-null float64\n",
      "OTHER_EXPENDITURE               466 non-null float64\n",
      "CAPITAL_OUTLAY_EXPENDITURE      466 non-null float64\n",
      "GRADES_PK_G                     466 non-null float64\n",
      "GRADES_KG_G                     466 non-null float64\n",
      "GRADES_4_G                      466 non-null float64\n",
      "GRADES_8_G                      466 non-null float64\n",
      "GRADES_12_G                     466 non-null float64\n",
      "GRADES_1_8_G                    466 non-null float64\n",
      "GRADES_9_12_G                   466 non-null float64\n",
      "GRADES_ALL_G                    466 non-null float64\n",
      "AVG_MATH_4_SCORE                466 non-null float64\n",
      "AVG_MATH_8_SCORE                466 non-null float64\n",
      "AVG_READING_4_SCORE             466 non-null float64\n",
      "AVG_READING_8_SCORE             466 non-null float64\n",
      "dtypes: float64(22), int64(1), object(2)\n",
      "memory usage: 94.7+ KB\n"
     ]
    }
   ],
   "source": [
    "education_df.info()"
   ]
  },
  {
   "cell_type": "code",
   "execution_count": 55,
   "metadata": {},
   "outputs": [
    {
     "data": {
      "text/html": [
       "<div>\n",
       "<style scoped>\n",
       "    .dataframe tbody tr th:only-of-type {\n",
       "        vertical-align: middle;\n",
       "    }\n",
       "\n",
       "    .dataframe tbody tr th {\n",
       "        vertical-align: top;\n",
       "    }\n",
       "\n",
       "    .dataframe thead th {\n",
       "        text-align: right;\n",
       "    }\n",
       "</style>\n",
       "<table border=\"1\" class=\"dataframe\">\n",
       "  <thead>\n",
       "    <tr style=\"text-align: right;\">\n",
       "      <th></th>\n",
       "      <th>YEAR</th>\n",
       "      <th>ENROLL</th>\n",
       "      <th>TOTAL_REVENUE</th>\n",
       "      <th>FEDERAL_REVENUE</th>\n",
       "      <th>STATE_REVENUE</th>\n",
       "      <th>LOCAL_REVENUE</th>\n",
       "      <th>TOTAL_EXPENDITURE</th>\n",
       "      <th>INSTRUCTION_EXPENDITURE</th>\n",
       "      <th>SUPPORT_SERVICES_EXPENDITURE</th>\n",
       "      <th>OTHER_EXPENDITURE</th>\n",
       "      <th>...</th>\n",
       "      <th>GRADES_4_G</th>\n",
       "      <th>GRADES_8_G</th>\n",
       "      <th>GRADES_12_G</th>\n",
       "      <th>GRADES_1_8_G</th>\n",
       "      <th>GRADES_9_12_G</th>\n",
       "      <th>GRADES_ALL_G</th>\n",
       "      <th>AVG_MATH_4_SCORE</th>\n",
       "      <th>AVG_MATH_8_SCORE</th>\n",
       "      <th>AVG_READING_4_SCORE</th>\n",
       "      <th>AVG_READING_8_SCORE</th>\n",
       "    </tr>\n",
       "  </thead>\n",
       "  <tbody>\n",
       "    <tr>\n",
       "      <th>count</th>\n",
       "      <td>466.000000</td>\n",
       "      <td>4.660000e+02</td>\n",
       "      <td>4.660000e+02</td>\n",
       "      <td>4.660000e+02</td>\n",
       "      <td>4.660000e+02</td>\n",
       "      <td>4.660000e+02</td>\n",
       "      <td>4.660000e+02</td>\n",
       "      <td>4.660000e+02</td>\n",
       "      <td>4.660000e+02</td>\n",
       "      <td>4.660000e+02</td>\n",
       "      <td>...</td>\n",
       "      <td>466.000000</td>\n",
       "      <td>466.000000</td>\n",
       "      <td>466.000000</td>\n",
       "      <td>4.660000e+02</td>\n",
       "      <td>4.660000e+02</td>\n",
       "      <td>4.660000e+02</td>\n",
       "      <td>466.000000</td>\n",
       "      <td>466.000000</td>\n",
       "      <td>466.000000</td>\n",
       "      <td>466.000000</td>\n",
       "    </tr>\n",
       "    <tr>\n",
       "      <th>mean</th>\n",
       "      <td>2008.577253</td>\n",
       "      <td>9.444830e+05</td>\n",
       "      <td>1.081519e+07</td>\n",
       "      <td>9.580231e+05</td>\n",
       "      <td>5.011699e+06</td>\n",
       "      <td>4.845469e+06</td>\n",
       "      <td>1.089849e+07</td>\n",
       "      <td>5.650708e+06</td>\n",
       "      <td>3.188074e+06</td>\n",
       "      <td>4.922479e+05</td>\n",
       "      <td>...</td>\n",
       "      <td>72531.345494</td>\n",
       "      <td>72920.954936</td>\n",
       "      <td>64806.416309</td>\n",
       "      <td>5.837301e+05</td>\n",
       "      <td>2.867842e+05</td>\n",
       "      <td>8.935117e+05</td>\n",
       "      <td>236.909728</td>\n",
       "      <td>279.802668</td>\n",
       "      <td>219.508638</td>\n",
       "      <td>263.789943</td>\n",
       "    </tr>\n",
       "    <tr>\n",
       "      <th>std</th>\n",
       "      <td>5.779779</td>\n",
       "      <td>1.122384e+06</td>\n",
       "      <td>1.358235e+07</td>\n",
       "      <td>1.331475e+06</td>\n",
       "      <td>6.411774e+06</td>\n",
       "      <td>6.338172e+06</td>\n",
       "      <td>1.375873e+07</td>\n",
       "      <td>7.262925e+06</td>\n",
       "      <td>3.840561e+06</td>\n",
       "      <td>6.014541e+05</td>\n",
       "      <td>...</td>\n",
       "      <td>86460.436575</td>\n",
       "      <td>85834.653148</td>\n",
       "      <td>77546.862443</td>\n",
       "      <td>6.925375e+05</td>\n",
       "      <td>3.407958e+05</td>\n",
       "      <td>1.060033e+06</td>\n",
       "      <td>8.695903</td>\n",
       "      <td>9.381511</td>\n",
       "      <td>7.426546</td>\n",
       "      <td>6.875627</td>\n",
       "    </tr>\n",
       "    <tr>\n",
       "      <th>min</th>\n",
       "      <td>1996.000000</td>\n",
       "      <td>4.417900e+04</td>\n",
       "      <td>6.788740e+05</td>\n",
       "      <td>5.787000e+04</td>\n",
       "      <td>0.000000e+00</td>\n",
       "      <td>2.853100e+04</td>\n",
       "      <td>7.032450e+05</td>\n",
       "      <td>3.182600e+05</td>\n",
       "      <td>2.041170e+05</td>\n",
       "      <td>2.310700e+04</td>\n",
       "      <td>...</td>\n",
       "      <td>3423.000000</td>\n",
       "      <td>2860.000000</td>\n",
       "      <td>2188.000000</td>\n",
       "      <td>2.676200e+04</td>\n",
       "      <td>9.970000e+03</td>\n",
       "      <td>3.682300e+04</td>\n",
       "      <td>187.134670</td>\n",
       "      <td>232.831510</td>\n",
       "      <td>181.626990</td>\n",
       "      <td>236.379102</td>\n",
       "    </tr>\n",
       "    <tr>\n",
       "      <th>25%</th>\n",
       "      <td>2005.000000</td>\n",
       "      <td>2.774370e+05</td>\n",
       "      <td>2.712660e+06</td>\n",
       "      <td>2.614470e+05</td>\n",
       "      <td>1.491747e+06</td>\n",
       "      <td>9.635558e+05</td>\n",
       "      <td>2.670300e+06</td>\n",
       "      <td>1.416288e+06</td>\n",
       "      <td>8.472295e+05</td>\n",
       "      <td>1.296515e+05</td>\n",
       "      <td>...</td>\n",
       "      <td>20489.750000</td>\n",
       "      <td>20880.250000</td>\n",
       "      <td>18527.750000</td>\n",
       "      <td>1.666395e+05</td>\n",
       "      <td>8.194400e+04</td>\n",
       "      <td>2.596278e+05</td>\n",
       "      <td>232.760641</td>\n",
       "      <td>274.707118</td>\n",
       "      <td>215.338956</td>\n",
       "      <td>259.661771</td>\n",
       "    </tr>\n",
       "    <tr>\n",
       "      <th>50%</th>\n",
       "      <td>2009.000000</td>\n",
       "      <td>6.659445e+05</td>\n",
       "      <td>6.139972e+06</td>\n",
       "      <td>5.601350e+05</td>\n",
       "      <td>3.034960e+06</td>\n",
       "      <td>2.467272e+06</td>\n",
       "      <td>6.317938e+06</td>\n",
       "      <td>3.193509e+06</td>\n",
       "      <td>1.908255e+06</td>\n",
       "      <td>3.304065e+05</td>\n",
       "      <td>...</td>\n",
       "      <td>50918.000000</td>\n",
       "      <td>50114.500000</td>\n",
       "      <td>41790.000000</td>\n",
       "      <td>4.083570e+05</td>\n",
       "      <td>1.871180e+05</td>\n",
       "      <td>6.282085e+05</td>\n",
       "      <td>238.394124</td>\n",
       "      <td>281.531587</td>\n",
       "      <td>221.130461</td>\n",
       "      <td>265.217081</td>\n",
       "    </tr>\n",
       "    <tr>\n",
       "      <th>75%</th>\n",
       "      <td>2013.000000</td>\n",
       "      <td>1.018588e+06</td>\n",
       "      <td>1.222407e+07</td>\n",
       "      <td>1.040284e+06</td>\n",
       "      <td>6.260627e+06</td>\n",
       "      <td>5.488079e+06</td>\n",
       "      <td>1.195951e+07</td>\n",
       "      <td>6.154768e+06</td>\n",
       "      <td>3.667420e+06</td>\n",
       "      <td>5.666548e+05</td>\n",
       "      <td>...</td>\n",
       "      <td>79929.500000</td>\n",
       "      <td>80949.750000</td>\n",
       "      <td>75641.250000</td>\n",
       "      <td>6.424952e+05</td>\n",
       "      <td>3.234915e+05</td>\n",
       "      <td>9.758625e+05</td>\n",
       "      <td>242.602566</td>\n",
       "      <td>286.197041</td>\n",
       "      <td>224.531280</td>\n",
       "      <td>268.307884</td>\n",
       "    </tr>\n",
       "    <tr>\n",
       "      <th>max</th>\n",
       "      <td>2017.000000</td>\n",
       "      <td>6.307022e+06</td>\n",
       "      <td>8.921726e+07</td>\n",
       "      <td>9.990221e+06</td>\n",
       "      <td>5.090457e+07</td>\n",
       "      <td>3.610526e+07</td>\n",
       "      <td>8.532013e+07</td>\n",
       "      <td>4.396452e+07</td>\n",
       "      <td>2.605802e+07</td>\n",
       "      <td>3.995951e+06</td>\n",
       "      <td>...</td>\n",
       "      <td>493415.000000</td>\n",
       "      <td>500143.000000</td>\n",
       "      <td>498403.000000</td>\n",
       "      <td>3.929869e+06</td>\n",
       "      <td>2.011865e+06</td>\n",
       "      <td>5.926631e+06</td>\n",
       "      <td>253.420961</td>\n",
       "      <td>300.568235</td>\n",
       "      <td>236.773867</td>\n",
       "      <td>280.499130</td>\n",
       "    </tr>\n",
       "  </tbody>\n",
       "</table>\n",
       "<p>8 rows × 23 columns</p>\n",
       "</div>"
      ],
      "text/plain": [
       "              YEAR        ENROLL  TOTAL_REVENUE  FEDERAL_REVENUE  \\\n",
       "count   466.000000  4.660000e+02   4.660000e+02     4.660000e+02   \n",
       "mean   2008.577253  9.444830e+05   1.081519e+07     9.580231e+05   \n",
       "std       5.779779  1.122384e+06   1.358235e+07     1.331475e+06   \n",
       "min    1996.000000  4.417900e+04   6.788740e+05     5.787000e+04   \n",
       "25%    2005.000000  2.774370e+05   2.712660e+06     2.614470e+05   \n",
       "50%    2009.000000  6.659445e+05   6.139972e+06     5.601350e+05   \n",
       "75%    2013.000000  1.018588e+06   1.222407e+07     1.040284e+06   \n",
       "max    2017.000000  6.307022e+06   8.921726e+07     9.990221e+06   \n",
       "\n",
       "       STATE_REVENUE  LOCAL_REVENUE  TOTAL_EXPENDITURE  \\\n",
       "count   4.660000e+02   4.660000e+02       4.660000e+02   \n",
       "mean    5.011699e+06   4.845469e+06       1.089849e+07   \n",
       "std     6.411774e+06   6.338172e+06       1.375873e+07   \n",
       "min     0.000000e+00   2.853100e+04       7.032450e+05   \n",
       "25%     1.491747e+06   9.635558e+05       2.670300e+06   \n",
       "50%     3.034960e+06   2.467272e+06       6.317938e+06   \n",
       "75%     6.260627e+06   5.488079e+06       1.195951e+07   \n",
       "max     5.090457e+07   3.610526e+07       8.532013e+07   \n",
       "\n",
       "       INSTRUCTION_EXPENDITURE  SUPPORT_SERVICES_EXPENDITURE  \\\n",
       "count             4.660000e+02                  4.660000e+02   \n",
       "mean              5.650708e+06                  3.188074e+06   \n",
       "std               7.262925e+06                  3.840561e+06   \n",
       "min               3.182600e+05                  2.041170e+05   \n",
       "25%               1.416288e+06                  8.472295e+05   \n",
       "50%               3.193509e+06                  1.908255e+06   \n",
       "75%               6.154768e+06                  3.667420e+06   \n",
       "max               4.396452e+07                  2.605802e+07   \n",
       "\n",
       "       OTHER_EXPENDITURE         ...              GRADES_4_G     GRADES_8_G  \\\n",
       "count       4.660000e+02         ...              466.000000     466.000000   \n",
       "mean        4.922479e+05         ...            72531.345494   72920.954936   \n",
       "std         6.014541e+05         ...            86460.436575   85834.653148   \n",
       "min         2.310700e+04         ...             3423.000000    2860.000000   \n",
       "25%         1.296515e+05         ...            20489.750000   20880.250000   \n",
       "50%         3.304065e+05         ...            50918.000000   50114.500000   \n",
       "75%         5.666548e+05         ...            79929.500000   80949.750000   \n",
       "max         3.995951e+06         ...           493415.000000  500143.000000   \n",
       "\n",
       "         GRADES_12_G  GRADES_1_8_G  GRADES_9_12_G  GRADES_ALL_G  \\\n",
       "count     466.000000  4.660000e+02   4.660000e+02  4.660000e+02   \n",
       "mean    64806.416309  5.837301e+05   2.867842e+05  8.935117e+05   \n",
       "std     77546.862443  6.925375e+05   3.407958e+05  1.060033e+06   \n",
       "min      2188.000000  2.676200e+04   9.970000e+03  3.682300e+04   \n",
       "25%     18527.750000  1.666395e+05   8.194400e+04  2.596278e+05   \n",
       "50%     41790.000000  4.083570e+05   1.871180e+05  6.282085e+05   \n",
       "75%     75641.250000  6.424952e+05   3.234915e+05  9.758625e+05   \n",
       "max    498403.000000  3.929869e+06   2.011865e+06  5.926631e+06   \n",
       "\n",
       "       AVG_MATH_4_SCORE  AVG_MATH_8_SCORE  AVG_READING_4_SCORE  \\\n",
       "count        466.000000        466.000000           466.000000   \n",
       "mean         236.909728        279.802668           219.508638   \n",
       "std            8.695903          9.381511             7.426546   \n",
       "min          187.134670        232.831510           181.626990   \n",
       "25%          232.760641        274.707118           215.338956   \n",
       "50%          238.394124        281.531587           221.130461   \n",
       "75%          242.602566        286.197041           224.531280   \n",
       "max          253.420961        300.568235           236.773867   \n",
       "\n",
       "       AVG_READING_8_SCORE  \n",
       "count           466.000000  \n",
       "mean            263.789943  \n",
       "std               6.875627  \n",
       "min             236.379102  \n",
       "25%             259.661771  \n",
       "50%             265.217081  \n",
       "75%             268.307884  \n",
       "max             280.499130  \n",
       "\n",
       "[8 rows x 23 columns]"
      ]
     },
     "execution_count": 55,
     "metadata": {},
     "output_type": "execute_result"
    }
   ],
   "source": [
    "education_df.describe()"
   ]
  },
  {
   "cell_type": "code",
   "execution_count": 56,
   "metadata": {
    "scrolled": true
   },
   "outputs": [
    {
     "data": {
      "image/png": "[encoded data removed]",
      "text/plain": [
       "<Figure size 432x288 with 1 Axes>"
      ]
     },
     "metadata": {
      "needs_background": "light"
     },
     "output_type": "display_data"
    },
    {
     "data": {
      "image/png": "[encoded data removed]",
      "text/plain": [
       "<Figure size 432x288 with 1 Axes>"
      ]
     },
     "metadata": {
      "needs_background": "light"
     },
     "output_type": "display_data"
    }
   ],
   "source": [
    "plt.boxplot(education_df['TOTAL_REVENUE'], whis = 5)\n",
    "plt.title('Total Revenue')\n",
    "plt.show()\n",
    "plt.boxplot(education_df['TOTAL_EXPENDITURE'], whis = 5)\n",
    "plt.title('Total Expenditure')\n",
    "\n",
    "plt.show()"
   ]
  },
  {
   "cell_type": "markdown",
   "metadata": {},
   "source": [
    "    outliers are present!\n",
    "    "
   ]
  },
  {
   "cell_type": "code",
   "execution_count": 57,
   "metadata": {},
   "outputs": [],
   "source": [
    "from scipy.stats.mstats import winsorize\n",
    "\n",
    "win_rev = winsorize(education_df['TOTAL_REVENUE'], (0, .05))\n",
    "\n",
    "win_exp = winsorize(education_df['TOTAL_EXPENDITURE'], (0, .05))"
   ]
  },
  {
   "cell_type": "code",
   "execution_count": 58,
   "metadata": {
    "scrolled": true
   },
   "outputs": [
    {
     "data": {
      "image/png": "[encoded data removed]",
      "text/plain": [
       "<Figure size 432x288 with 1 Axes>"
      ]
     },
     "metadata": {
      "needs_background": "light"
     },
     "output_type": "display_data"
    },
    {
     "data": {
      "image/png": "[encoded data removed]",
      "text/plain": [
       "<Figure size 432x288 with 1 Axes>"
      ]
     },
     "metadata": {
      "needs_background": "light"
     },
     "output_type": "display_data"
    }
   ],
   "source": [
    "plt.boxplot(win_rev, whis = 5)\n",
    "plt.title('Total Revenue')\n",
    "plt.show()\n",
    "plt.boxplot(win_exp, whis = 5)\n",
    "plt.title('Total Expenditure')\n",
    "\n",
    "plt.show()"
   ]
  },
  {
   "cell_type": "markdown",
   "metadata": {},
   "source": [
    "    no outliers present!"
   ]
  },
  {
   "cell_type": "code",
   "execution_count": 59,
   "metadata": {},
   "outputs": [],
   "source": [
    "deficit = education_df.TOTAL_REVENUE - education_df.TOTAL_EXPENDITURE \n",
    "\n",
    "# what's the difference between df.column and df['column']"
   ]
  },
  {
   "cell_type": "code",
   "execution_count": 60,
   "metadata": {
    "scrolled": true
   },
   "outputs": [
    {
     "data": {
      "text/plain": [
       "Text(0.5, 1.0, 'Deficit')"
      ]
     },
     "execution_count": 60,
     "metadata": {},
     "output_type": "execute_result"
    },
    {
     "data": {
      "image/png": "[encoded data removed]",
      "text/plain": [
       "<Figure size 432x288 with 1 Axes>"
      ]
     },
     "metadata": {
      "needs_background": "light"
     },
     "output_type": "display_data"
    }
   ],
   "source": [
    "plt.boxplot(deficit, whis = 5)\n",
    "plt.title('Deficit')"
   ]
  },
  {
   "cell_type": "code",
   "execution_count": 61,
   "metadata": {},
   "outputs": [],
   "source": [
    "win_def = winsorize(deficit, (.05,.05))"
   ]
  },
  {
   "cell_type": "code",
   "execution_count": 62,
   "metadata": {},
   "outputs": [
    {
     "data": {
      "text/plain": [
       "Text(0.5, 1.0, 'Deficit')"
      ]
     },
     "execution_count": 62,
     "metadata": {},
     "output_type": "execute_result"
    },
    {
     "data": {
      "image/png": "[encoded data removed]",
      "text/plain": [
       "<Figure size 432x288 with 1 Axes>"
      ]
     },
     "metadata": {
      "needs_background": "light"
     },
     "output_type": "display_data"
    }
   ],
   "source": [
    "plt.boxplot(win_def, whis= 5)\n",
    "plt.title('Deficit')"
   ]
  },
  {
   "cell_type": "code",
   "execution_count": 63,
   "metadata": {},
   "outputs": [],
   "source": [
    "deficit2 = win_rev - win_exp\n"
   ]
  },
  {
   "cell_type": "code",
   "execution_count": 64,
   "metadata": {},
   "outputs": [
    {
     "data": {
      "text/plain": [
       "Text(0.5, 1.0, 'Deficit from Winsorize')"
      ]
     },
     "execution_count": 64,
     "metadata": {},
     "output_type": "execute_result"
    },
    {
     "data": {
      "image/png": "[encoded data removed]",
      "text/plain": [
       "<Figure size 432x288 with 1 Axes>"
      ]
     },
     "metadata": {
      "needs_background": "light"
     },
     "output_type": "display_data"
    }
   ],
   "source": [
    "plt.boxplot(deficit2, whis = 5)\n",
    "plt.title('Deficit from Winsorize')"
   ]
  },
  {
   "cell_type": "markdown",
   "metadata": {},
   "source": [
    "    outliers present!"
   ]
  },
  {
   "cell_type": "code",
   "execution_count": 65,
   "metadata": {},
   "outputs": [],
   "source": [
    "win_def2 = winsorize(deficit2, (0.05, 0.05))"
   ]
  },
  {
   "cell_type": "code",
   "execution_count": 66,
   "metadata": {
    "scrolled": true
   },
   "outputs": [
    {
     "data": {
      "text/plain": [
       "Text(0.5, 1.0, 'Deficit from Winsorize')"
      ]
     },
     "execution_count": 66,
     "metadata": {},
     "output_type": "execute_result"
    },
    {
     "data": {
      "image/png": "[encoded data removed]",
      "text/plain": [
       "<Figure size 432x288 with 1 Axes>"
      ]
     },
     "metadata": {
      "needs_background": "light"
     },
     "output_type": "display_data"
    }
   ],
   "source": [
    "plt.boxplot(win_def2, whis = 5)\n",
    "plt.title('Deficit from Winsorize')"
   ]
  },
  {
   "cell_type": "code",
   "execution_count": 67,
   "metadata": {
    "scrolled": true
   },
   "outputs": [
    {
     "data": {
      "text/html": [
       "<div>\n",
       "<style scoped>\n",
       "    .dataframe tbody tr th:only-of-type {\n",
       "        vertical-align: middle;\n",
       "    }\n",
       "\n",
       "    .dataframe tbody tr th {\n",
       "        vertical-align: top;\n",
       "    }\n",
       "\n",
       "    .dataframe thead th {\n",
       "        text-align: right;\n",
       "    }\n",
       "</style>\n",
       "<table border=\"1\" class=\"dataframe\">\n",
       "  <thead>\n",
       "    <tr style=\"text-align: right;\">\n",
       "      <th></th>\n",
       "      <th>budget_before</th>\n",
       "      <th>winsorize_bud</th>\n",
       "      <th>winsorized_bud2</th>\n",
       "    </tr>\n",
       "  </thead>\n",
       "  <tbody>\n",
       "    <tr>\n",
       "      <th>count</th>\n",
       "      <td>4.660000e+02</td>\n",
       "      <td>466.000000</td>\n",
       "      <td>4.660000e+02</td>\n",
       "    </tr>\n",
       "    <tr>\n",
       "      <th>mean</th>\n",
       "      <td>-8.329761e+04</td>\n",
       "      <td>-61210.328326</td>\n",
       "      <td>-1.736360e+05</td>\n",
       "    </tr>\n",
       "    <tr>\n",
       "      <th>std</th>\n",
       "      <td>6.148962e+05</td>\n",
       "      <td>342588.030357</td>\n",
       "      <td>6.502740e+05</td>\n",
       "    </tr>\n",
       "    <tr>\n",
       "      <th>min</th>\n",
       "      <td>-5.487742e+06</td>\n",
       "      <td>-921134.000000</td>\n",
       "      <td>-2.518429e+06</td>\n",
       "    </tr>\n",
       "    <tr>\n",
       "      <th>25%</th>\n",
       "      <td>-1.965748e+05</td>\n",
       "      <td>-196574.750000</td>\n",
       "      <td>-2.047750e+05</td>\n",
       "    </tr>\n",
       "    <tr>\n",
       "      <th>50%</th>\n",
       "      <td>-1.282350e+04</td>\n",
       "      <td>-12823.500000</td>\n",
       "      <td>-1.460050e+04</td>\n",
       "    </tr>\n",
       "    <tr>\n",
       "      <th>75%</th>\n",
       "      <td>9.852350e+04</td>\n",
       "      <td>98523.500000</td>\n",
       "      <td>9.184800e+04</td>\n",
       "    </tr>\n",
       "    <tr>\n",
       "      <th>max</th>\n",
       "      <td>3.897129e+06</td>\n",
       "      <td>560511.000000</td>\n",
       "      <td>5.400550e+05</td>\n",
       "    </tr>\n",
       "  </tbody>\n",
       "</table>\n",
       "</div>"
      ],
      "text/plain": [
       "       budget_before  winsorize_bud  winsorized_bud2\n",
       "count   4.660000e+02     466.000000     4.660000e+02\n",
       "mean   -8.329761e+04  -61210.328326    -1.736360e+05\n",
       "std     6.148962e+05  342588.030357     6.502740e+05\n",
       "min    -5.487742e+06 -921134.000000    -2.518429e+06\n",
       "25%    -1.965748e+05 -196574.750000    -2.047750e+05\n",
       "50%    -1.282350e+04  -12823.500000    -1.460050e+04\n",
       "75%     9.852350e+04   98523.500000     9.184800e+04\n",
       "max     3.897129e+06  560511.000000     5.400550e+05"
      ]
     },
     "execution_count": 67,
     "metadata": {},
     "output_type": "execute_result"
    }
   ],
   "source": [
    "pd.DataFrame({'budget_before': deficit, 'winsorize_bud': win_def, 'winsorized_bud2': win_def2}).describe()"
   ]
  },
  {
   "cell_type": "markdown",
   "metadata": {},
   "source": [
    "the number vary widely.  It's hard to know when is the best time to winsorize!  Which values are truest??"
   ]
  },
  {
   "cell_type": "code",
   "execution_count": 69,
   "metadata": {},
   "outputs": [
    {
     "data": {
      "text/plain": [
       "(array([300.,  88.,  32.,  21.,   3.,   5.,   7.,   4.,   4.,   2.]),\n",
       " array([  703245.        ,  9164933.8       , 17626622.6       ,\n",
       "        26088311.4       , 34550000.2       , 43011689.        ,\n",
       "        51473377.8       , 59935066.60000001, 68396755.4       ,\n",
       "        76858444.2       , 85320133.        ]),\n",
       " <a list of 10 Patch objects>)"
      ]
     },
     "execution_count": 69,
     "metadata": {},
     "output_type": "execute_result"
    },
    {
     "data": {
      "image/png": "[encoded data removed]",
      "text/plain": [
       "<Figure size 432x288 with 1 Axes>"
      ]
     },
     "metadata": {
      "needs_background": "light"
     },
     "output_type": "display_data"
    }
   ],
   "source": [
    "plt.hist(education_df['TOTAL_REVENUE'])\n",
    "plt.hist(education_df['TOTAL_EXPENDITURE'])\n"
   ]
  },
  {
   "cell_type": "code",
   "execution_count": 70,
   "metadata": {},
   "outputs": [
    {
     "data": {
      "text/plain": [
       "(array([  1.,   1.,   1.,   5.,  22., 339.,  90.,   6.,   0.,   1.]),\n",
       " array([-5487742. , -4549254.9, -3610767.8, -2672280.7, -1733793.6,\n",
       "         -795306.5,   143180.6,  1081667.7,  2020154.8,  2958641.9,\n",
       "         3897129. ]),\n",
       " <a list of 10 Patch objects>)"
      ]
     },
     "execution_count": 70,
     "metadata": {},
     "output_type": "execute_result"
    },
    {
     "data": {
      "image/png": "[encoded data removed]",
      "text/plain": [
       "<Figure size 432x288 with 1 Axes>"
      ]
     },
     "metadata": {
      "needs_background": "light"
     },
     "output_type": "display_data"
    }
   ],
   "source": [
    "plt.hist(deficit)"
   ]
  },
  {
   "cell_type": "code",
   "execution_count": 71,
   "metadata": {},
   "outputs": [
    {
     "data": {
      "text/plain": [
       "(array([ 31.,  11.,  12.,  16.,  57.,  75., 157.,  48.,  17.,  42.]),\n",
       " array([-921134. , -772969.5, -624805. , -476640.5, -328476. , -180311.5,\n",
       "         -32147. ,  116017.5,  264182. ,  412346.5,  560511. ]),\n",
       " <a list of 10 Patch objects>)"
      ]
     },
     "execution_count": 71,
     "metadata": {},
     "output_type": "execute_result"
    },
    {
     "data": {
      "image/png": "[encoded data removed]",
      "text/plain": [
       "<Figure size 432x288 with 1 Axes>"
      ]
     },
     "metadata": {
      "needs_background": "light"
     },
     "output_type": "display_data"
    }
   ],
   "source": [
    "plt.hist(win_def)"
   ]
  },
  {
   "cell_type": "code",
   "execution_count": 72,
   "metadata": {},
   "outputs": [
    {
     "data": {
      "text/plain": [
       "(array([ 27.,   0.,   3.,   8.,  31., 274.,  95.,  19.,   6.,   3.]),\n",
       " array([-2518429. , -2084892.9, -1651356.8, -1217820.7,  -784284.6,\n",
       "         -350748.5,    82787.6,   516323.7,   949859.8,  1383395.9,\n",
       "         1816932. ]),\n",
       " <a list of 10 Patch objects>)"
      ]
     },
     "execution_count": 72,
     "metadata": {},
     "output_type": "execute_result"
    },
    {
     "data": {
      "image/png": "[encoded data removed]",
      "text/plain": [
       "<Figure size 432x288 with 1 Axes>"
      ]
     },
     "metadata": {
      "needs_background": "light"
     },
     "output_type": "display_data"
    }
   ],
   "source": [
    "plt.hist(deficit2)"
   ]
  },
  {
   "cell_type": "code",
   "execution_count": 73,
   "metadata": {},
   "outputs": [
    {
     "data": {
      "text/plain": [
       "(array([ 25.,   2.,   1.,   2.,   3.,  11.,  21., 113., 225.,  63.]),\n",
       " array([-2518429. , -2212580.6, -1906732.2, -1600883.8, -1295035.4,\n",
       "         -989187. ,  -683338.6,  -377490.2,   -71641.8,   234206.6,\n",
       "          540055. ]),\n",
       " <a list of 10 Patch objects>)"
      ]
     },
     "execution_count": 73,
     "metadata": {},
     "output_type": "execute_result"
    },
    {
     "data": {
      "image/png": "[encoded data removed]",
      "text/plain": [
       "<Figure size 432x288 with 1 Axes>"
      ]
     },
     "metadata": {
      "needs_background": "light"
     },
     "output_type": "display_data"
    }
   ],
   "source": [
    "plt.hist(win_def2)"
   ]
  }
 ],
 "metadata": {
  "kernelspec": {
   "display_name": "Python 3",
   "language": "python",
   "name": "python3"
  },
  "language_info": {
   "codemirror_mode": {
    "name": "ipython",
    "version": 3
   },
   "file_extension": ".py",
   "mimetype": "text/x-python",
   "name": "python",
   "nbconvert_exporter": "python",
   "pygments_lexer": "ipython3",
   "version": "3.7.0"
  }
 },
 "nbformat": 4,
 "nbformat_minor": 2
}

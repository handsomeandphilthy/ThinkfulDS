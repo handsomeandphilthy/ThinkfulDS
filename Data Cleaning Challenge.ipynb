{
 "cells": [
  {
   "cell_type": "code",
   "execution_count": 2,
   "metadata": {
    "scrolled": false
   },
   "outputs": [],
   "source": [
    "import numpy as np\n",
    "import pandas as pd\n",
    "import matplotlib.pyplot as plt\n",
    "import seaborn as sns\n",
    "import re\n",
    "%matplotlib inline"
   ]
  },
  {
   "cell_type": "code",
   "execution_count": 3,
   "metadata": {
    "scrolled": true
   },
   "outputs": [],
   "source": [
    "df = pd.read_csv('C:/Users/Phillip/Pictures/Box Sync/My Python Programs/Data Science/cleanchallenge.csv', encoding='latin1')"
   ]
  },
  {
   "cell_type": "code",
   "execution_count": 5,
   "metadata": {
    "scrolled": false
   },
   "outputs": [
    {
     "name": "stdout",
     "output_type": "stream",
     "text": [
      "              PMID/PMCID Publisher           Journal title  \\\n",
      "0                    NaN       CUP  Psychological Medicine   \n",
      "1             PMC3679557       ACS       Biomacromolecules   \n",
      "2  23043264  PMC3506128        ACS              J Med Chem   \n",
      "3    23438330 PMC3646402       ACS              J Med Chem   \n",
      "4   23438216 PMC3601604        ACS              J Org Chem   \n",
      "\n",
      "                                       Article title  \\\n",
      "0  Reduced parahippocampal cortical thickness in ...   \n",
      "1  Structural characterization of a Model Gram-ne...   \n",
      "2  Fumaroylamino-4,5-epoxymorphinans and related ...   \n",
      "3  Orvinols with mixed kappa/mu opioid receptor a...   \n",
      "4  Regioselective opening of myo-inositol orthoes...   \n",
      "\n",
      "  COST (£) charged to Wellcome (inc VAT when charged)  \n",
      "0                                              £0.00   \n",
      "1                                           £2381.04   \n",
      "2                                            £642.56   \n",
      "3                                            £669.64   \n",
      "4                                            £685.88   \n"
     ]
    }
   ],
   "source": [
    "print(df.head(5))\n",
    "#df['COST (£) charged to Wellcome (inc VAT when charged)']"
   ]
  },
  {
   "cell_type": "markdown",
   "metadata": {},
   "source": [
    "# Cleaning Tasks\n",
    "\n",
    "Going to need to go over publisher names and get everything to match up, for example, ACS/American Chemical Society to the same referrence.\n",
    "\n",
    "Journal Titles J Med Chem/Journal of Medicinal Chemistry title clean up\n",
    "\n",
    "Remove pound/sterling symbol"
   ]
  },
  {
   "cell_type": "code",
   "execution_count": 6,
   "metadata": {
    "scrolled": true
   },
   "outputs": [],
   "source": [
    "df['Journal title'] = df['Journal title'].replace(['J Med Chem', 'Journal of Medicinal Chemistry', 'J Org Chem'], 'JMC')\n",
    "df['Journal title'] = df['Journal title'].replace(['ACS Chemical Biology', 'ACS Chemical Neuroscience', 'American Chemical Society', 'ACS NANA'], 'ACS')\n",
    "df['Journal title'] = df['Journal title'].replace(['Journal of Biochemistry', 'Biochemistry', 'Bioconjugate Chemistry', ], 'JoB')\n",
    "df['Journal title'] = df['Journal title'].replace(['OUP', 'Oxford', 'Oxford Journals', ], 'Oxford University Press')\n"
   ]
  },
  {
   "cell_type": "code",
   "execution_count": 7,
   "metadata": {
    "scrolled": true
   },
   "outputs": [
    {
     "name": "stdout",
     "output_type": "stream",
     "text": [
      "0                                  Psychological Medicine\n",
      "1                                       Biomacromolecules\n",
      "2                                                     JMC\n",
      "3                                                     JMC\n",
      "4                                                     JMC\n",
      "5                                                     JMC\n",
      "6                            Journal of Proteome Research\n",
      "7                                               Mol Pharm\n",
      "8                                                     ACS\n",
      "9                                                     ACS\n",
      "10           Journal of Chemical Information and Modeling\n",
      "11                                                    JMC\n",
      "12                                                    JMC\n",
      "13                                                    JoB\n",
      "14                                                    JMC\n",
      "15                                       Gastroenterology\n",
      "16                        Journal of Biological Chemistry\n",
      "17                                  Journal of Immunology\n",
      "18                                  Journal of Immunology\n",
      "19                                                    ACS\n",
      "20                                                    ACS\n",
      "21                                                    ACS\n",
      "22                                                    ACS\n",
      "23                                               ACS NANO\n",
      "24                                                    ACS\n",
      "25                                   Analytical Chemistry\n",
      "26                                   Analytical Chemistry\n",
      "27                                   Analytical Chemistry\n",
      "28                                                    JoB\n",
      "29                                                    JMC\n",
      "                              ...                        \n",
      "2097                               Molecular Microbiology\n",
      "2098                                      Obesity Reviews\n",
      "2099                                      Obesity Reviews\n",
      "2100                               Statistics in Medicine\n",
      "2101                                           Stem Cells\n",
      "2102                                              Synapse\n",
      "2103                 The European Journal of Neuroscience\n",
      "2104                                              Traffic\n",
      "2105                                              Traffic\n",
      "2106                           Zoonoses and Public Health\n",
      "2107                  American Journal of Transplantation\n",
      "2108                                   Angew chems Int Ed\n",
      "2109                                          CHEMBIOCHEM\n",
      "2110                                          Chemmedchem\n",
      "2111                                          Chemmedchem\n",
      "2112                                          ChemMedChem\n",
      "2113                                            Protemics\n",
      "2114                     Journal of Small Animal Practice\n",
      "2115                                                 AIDS\n",
      "2116                                         AIDS Journal\n",
      "2117                                              AIDS UK\n",
      "2118                                              AIDS UK\n",
      "2119    JAIDS Journal of Acquired Immune Deficiency Sy...\n",
      "2120    Journal of Acquired Immune Deficiency Syndroms...\n",
      "2121                                      Journal of Aids\n",
      "2122                                 Circulation Research\n",
      "2123                                                 AIDS\n",
      "2124                                 Pediatr Infect Dis J\n",
      "2125                                                 AIDS\n",
      "2126      Journal of Acquired Immune Deficiency Syndromes\n",
      "Name: Journal title, Length: 2127, dtype: object\n"
     ]
    }
   ],
   "source": [
    "print(df['Journal title'])"
   ]
  },
  {
   "cell_type": "code",
   "execution_count": 8,
   "metadata": {
    "scrolled": true
   },
   "outputs": [
    {
     "data": {
      "text/plain": [
       "Publisher\n",
       "Elsevier                                                                             387\n",
       "Public Library of Science                                                            278\n",
       "Wiley                                                                                136\n",
       "Springer                                                                              81\n",
       "Oxford University Press                                                               77\n",
       "OUP                                                                                   56\n",
       "Wiley-Blackwell                                                                       56\n",
       "ASBMB                                                                                 46\n",
       "Nature Publishing Group                                                               45\n",
       "BioMed Central                                                                        40\n",
       "BMC                                                                                   26\n",
       "Nature                                                                                24\n",
       "Frontiers                                                                             23\n",
       "BMJ                                                                                   23\n",
       "Royal Society                                                                         22\n",
       "Cambridge University Press                                                            20\n",
       "Company of Biologists                                                                 18\n",
       "American Society for Biochemistry and Molecular Biology                               18\n",
       "Dartmouth Journal Services                                                            17\n",
       "Oxford Journals                                                                       16\n",
       "American Society for Microbiology                                                     16\n",
       "National Academy of Sciences                                                          15\n",
       "PLoS                                                                                  15\n",
       "American Chemical Society                                                             14\n",
       "Society for General Microbiology                                                      14\n",
       "Landes Bioscience                                                                     14\n",
       "Wiley Subscription Services  Inc.                                                     13\n",
       "BMJ Group                                                                             13\n",
       "American Psychological Association                                                    13\n",
       "Sage                                                                                  12\n",
       "                                                                                    ... \n",
       "Future Medicine Ltd                                                                    1\n",
       "Frontiers Research Foundation                                                          1\n",
       "Federation of the American Society of Experimental Biology                             1\n",
       "Journal of the American Physiological Proceedings of National Academy of Sciences      1\n",
       "KARGER                                                                                 1\n",
       "LWW                                                                                    1\n",
       "Open Access Reg Ltd                                                                    1\n",
       "PubMed                                                                                 1\n",
       "Portland press                                                                         1\n",
       "Policy Press                                                                           1\n",
       "Pion                                                                                   1\n",
       "Palgrave MacMillan                                                                     1\n",
       "PORTLAND PRESS LTD                                                                     1\n",
       "PLoS Public Library of Science                                                         1\n",
       "Oxford Univesity Press                                                                 1\n",
       "Oxford Journals (OUP)                                                                  1\n",
       "Optical Society of America                                                             1\n",
       "Nature PG                                                                              1\n",
       "MARY ANN LIEBERT INC                                                                   1\n",
       "Nature                                                                                 1\n",
       "National Academy of Sciences USA                                                       1\n",
       "National Academy of Sciences                                                           1\n",
       "NPG                                                                                    1\n",
       "NATURE PUBLISHING GROUP LTD                                                            1\n",
       "My JOVE corporation                                                                    1\n",
       "Mary Ann Liebert, Inc. Publishers                                                      1\n",
       "MacMillan                                                                              1\n",
       "MIT Press                                                                              1\n",
       "MIT PRESS OPEN ACCESS                                                                  1\n",
       "Journal of Visualized Experiments                                                      1\n",
       "Name: Publisher, Length: 299, dtype: int64"
      ]
     },
     "execution_count": 8,
     "metadata": {},
     "output_type": "execute_result"
    }
   ],
   "source": [
    "pub_counts = df.groupby('Publisher')['Publisher'].count()\n",
    "\n",
    "pub_counts.sort_values(ascending=False)\n",
    "    "
   ]
  },
  {
   "cell_type": "markdown",
   "metadata": {},
   "source": [
    "# Determine 5 most common journals and their corresponding total articles\n",
    "\n",
    "# Top 5 Publishers\n",
    "1. Elsevier 387 articles\n",
    "2. Public Library of Science 287 articles\n",
    "3. Wiley 136 articles\n",
    "4. Oxford University Press 133 articles \n",
    "5. Springer 81 articles"
   ]
  },
  {
   "cell_type": "markdown",
   "metadata": {},
   "source": [
    "\n",
    "# Calculate mean, median, std dev cost per article per journal"
   ]
  },
  {
   "cell_type": "code",
   "execution_count": 20,
   "metadata": {
    "scrolled": true
   },
   "outputs": [
    {
     "name": "stdout",
     "output_type": "stream",
     "text": [
      "<class 'pandas.core.frame.DataFrame'>\n",
      "RangeIndex: 2127 entries, 0 to 2126\n",
      "Data columns (total 5 columns):\n",
      "PMID/PMCID                                             1928 non-null object\n",
      "Publisher                                              2127 non-null object\n",
      "Journal title                                          2126 non-null object\n",
      "Article title                                          2127 non-null object\n",
      "COST (£) charged to Wellcome (inc VAT when charged)    2127 non-null object\n",
      "dtypes: object(5)\n",
      "memory usage: 83.2+ KB\n"
     ]
    }
   ],
   "source": [
    "df.info()"
   ]
  },
  {
   "cell_type": "code",
   "execution_count": 9,
   "metadata": {
    "scrolled": true
   },
   "outputs": [],
   "source": [
    "# df.rename(columns={'COST (£) charged to Wellcome (inc VAT when charged)': 'Cost'})\n",
    "\n",
    "nosign = df['COST (£) charged to Wellcome (inc VAT when charged)'].replace('£', '', regex=True)"
   ]
  },
  {
   "cell_type": "code",
   "execution_count": 13,
   "metadata": {
    "scrolled": false
   },
   "outputs": [],
   "source": [
    "# need to convert numeric???"
   ]
  },
  {
   "cell_type": "code",
   "execution_count": null,
   "metadata": {
    "scrolled": true
   },
   "outputs": [],
   "source": []
  },
  {
   "cell_type": "code",
   "execution_count": null,
   "metadata": {
    "scrolled": true
   },
   "outputs": [],
   "source": []
  },
  {
   "cell_type": "code",
   "execution_count": null,
   "metadata": {
    "scrolled": true
   },
   "outputs": [],
   "source": []
  },
  {
   "cell_type": "code",
   "execution_count": null,
   "metadata": {
    "scrolled": true
   },
   "outputs": [],
   "source": []
  },
  {
   "cell_type": "code",
   "execution_count": null,
   "metadata": {
    "scrolled": true
   },
   "outputs": [],
   "source": []
  },
  {
   "cell_type": "code",
   "execution_count": null,
   "metadata": {
    "scrolled": true
   },
   "outputs": [],
   "source": []
  },
  {
   "cell_type": "code",
   "execution_count": null,
   "metadata": {
    "scrolled": true
   },
   "outputs": [],
   "source": []
  },
  {
   "cell_type": "code",
   "execution_count": null,
   "metadata": {
    "scrolled": true
   },
   "outputs": [],
   "source": []
  },
  {
   "cell_type": "code",
   "execution_count": null,
   "metadata": {
    "scrolled": true
   },
   "outputs": [],
   "source": []
  },
  {
   "cell_type": "code",
   "execution_count": null,
   "metadata": {
    "scrolled": true
   },
   "outputs": [],
   "source": []
  },
  {
   "cell_type": "code",
   "execution_count": null,
   "metadata": {
    "scrolled": true
   },
   "outputs": [],
   "source": []
  },
  {
   "cell_type": "code",
   "execution_count": null,
   "metadata": {
    "scrolled": true
   },
   "outputs": [],
   "source": []
  },
  {
   "cell_type": "code",
   "execution_count": null,
   "metadata": {
    "scrolled": true
   },
   "outputs": [],
   "source": []
  },
  {
   "cell_type": "code",
   "execution_count": null,
   "metadata": {
    "scrolled": true
   },
   "outputs": [],
   "source": []
  },
  {
   "cell_type": "code",
   "execution_count": null,
   "metadata": {
    "scrolled": true
   },
   "outputs": [],
   "source": []
  },
  {
   "cell_type": "code",
   "execution_count": null,
   "metadata": {
    "scrolled": true
   },
   "outputs": [],
   "source": []
  },
  {
   "cell_type": "code",
   "execution_count": null,
   "metadata": {
    "scrolled": true
   },
   "outputs": [],
   "source": []
  },
  {
   "cell_type": "code",
   "execution_count": null,
   "metadata": {
    "scrolled": true
   },
   "outputs": [],
   "source": []
  }
 ],
 "metadata": {
  "kernelspec": {
   "display_name": "Python 3",
   "language": "python",
   "name": "python3"
  },
  "language_info": {
   "codemirror_mode": {
    "name": "ipython",
    "version": 3
   },
   "file_extension": ".py",
   "mimetype": "text/x-python",
   "name": "python",
   "nbconvert_exporter": "python",
   "pygments_lexer": "ipython3",
   "version": "3.7.0"
  }
 },
 "nbformat": 4,
 "nbformat_minor": 2
}
